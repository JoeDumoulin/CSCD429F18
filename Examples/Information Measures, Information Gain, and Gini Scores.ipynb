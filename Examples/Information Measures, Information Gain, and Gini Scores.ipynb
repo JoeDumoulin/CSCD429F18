{
 "cells": [
  {
   "cell_type": "markdown",
   "metadata": {},
   "source": [
    "One of the original approaches to building Classification Trees is to use the tools of information theory to find useful decision points for building deecision trees.  Information gain was used in the early ID3 and C4.5 systems.  Let's see how it works.  Much of this discussion is from chapter 8 of Han, et.al., 2012."
   ]
  },
  {
   "cell_type": "markdown",
   "metadata": {},
   "source": [
    "#### Information Measure\n"
   ]
  }
 ],
 "metadata": {
  "kernelspec": {
   "display_name": "Python 3",
   "language": "python",
   "name": "python3"
  },
  "language_info": {
   "codemirror_mode": {
    "name": "ipython",
    "version": 3
   },
   "file_extension": ".py",
   "mimetype": "text/x-python",
   "name": "python",
   "nbconvert_exporter": "python",
   "pygments_lexer": "ipython3",
   "version": "3.5.4"
  }
 },
 "nbformat": 4,
 "nbformat_minor": 2
}
