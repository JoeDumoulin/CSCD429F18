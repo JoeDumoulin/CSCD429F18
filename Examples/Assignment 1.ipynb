{
 "cells": [
  {
   "cell_type": "markdown",
   "metadata": {},
   "source": [
    "2.2 read in the data below and answer questions."
   ]
  },
  {
   "cell_type": "code",
   "execution_count": 6,
   "metadata": {},
   "outputs": [
    {
     "data": {
      "text/plain": [
       "27"
      ]
     },
     "execution_count": 6,
     "metadata": {},
     "output_type": "execute_result"
    }
   ],
   "source": [
    "import statistics as stats\n",
    "l = [13,15,16,16,19,20,20,21,22,22,25,25,25,25,30,33,33,35,35,35,35,36,40,45,46,52,70]\n",
    "len(l)"
   ]
  },
  {
   "cell_type": "markdown",
   "metadata": {},
   "source": [
    "a) What is the mean and median of the data?"
   ]
  },
  {
   "cell_type": "code",
   "execution_count": 8,
   "metadata": {},
   "outputs": [
    {
     "name": "stdout",
     "output_type": "stream",
     "text": [
      "29.962962962962962\n",
      "29.962962962962962\n"
     ]
    }
   ],
   "source": [
    "#first, manual calc:\n",
    "mean_l = sum(l)/len(l)\n",
    "print(mean_l)\n",
    "#now programmatically\n",
    "print(stats.mean(l))"
   ]
  },
  {
   "cell_type": "code",
   "execution_count": 10,
   "metadata": {},
   "outputs": [
    {
     "name": "stdout",
     "output_type": "stream",
     "text": [
      "25\n",
      "25\n"
     ]
    }
   ],
   "source": [
    "# manual\n",
    "median_l = l[int(len(l)/2)]\n",
    "print(median_l)\n",
    "#programmatically\n",
    "print(stats.median(l))"
   ]
  },
  {
   "cell_type": "markdown",
   "metadata": {},
   "source": [
    "b) What is the mode of the data?  Comment on the data's modality."
   ]
  },
  {
   "cell_type": "code",
   "execution_count": 22,
   "metadata": {},
   "outputs": [
    {
     "name": "stdout",
     "output_type": "stream",
     "text": [
      "[35, 25]\n"
     ]
    }
   ],
   "source": [
    "# bimodal requires manual construction\n",
    "def mode(valueList):\n",
    "  frequencies = {}\n",
    "  for value in valueList:\n",
    "    if value in frequencies:\n",
    "      frequencies[value] += 1\n",
    "    else:\n",
    "      frequencies[value] = 1\n",
    "  max_value = max(frequencies.values())\n",
    "  mode = [i for i,v in frequencies.items() if v==max_value]\n",
    "  return mode\n",
    "\n",
    "print(mode(l))\n",
    "\n",
    "# only works for unimodal\n",
    "#stats.mode(l) gives an error"
   ]
  },
  {
   "cell_type": "markdown",
   "metadata": {},
   "source": [
    "c) What is the midrange?"
   ]
  },
  {
   "cell_type": "code",
   "execution_count": 136,
   "metadata": {},
   "outputs": [
    {
     "name": "stdout",
     "output_type": "stream",
     "text": [
      "41.5\n"
     ]
    }
   ],
   "source": [
    "midrange = (max(l) + min(l))/2\n",
    "print(midrange)"
   ]
  },
  {
   "cell_type": "markdown",
   "metadata": {},
   "source": [
    "d) Calculate $Q_1$ and $Q_3$."
   ]
  },
  {
   "cell_type": "code",
   "execution_count": 48,
   "metadata": {},
   "outputs": [
    {
     "name": "stdout",
     "output_type": "stream",
     "text": [
      "20\n",
      "35\n",
      "         0\n",
      "0.25  20.5\n",
      "0.75  35.0\n"
     ]
    }
   ],
   "source": [
    "# Quartiles: manual\n",
    "import math\n",
    "def quantile(data, k, q):\n",
    "    # find counts below each value\n",
    "    sorted_data = sorted(data)\n",
    "    q_k = math.floor(k/q*len(sorted_data))\n",
    "    return sorted_data[q_k]\n",
    "print(quantile(l, 1, 4)) # Q_1\n",
    "print(quantile(l, 3, 4)) # Q_3\n",
    "\n",
    "# automagic: For this we will use pandas\\\n",
    "import pandas as pd\n",
    "df = pd.DataFrame(l)\n",
    "quantiles = df.quantile([0.25,0.75])\n",
    "print(quantiles[[0]])"
   ]
  },
  {
   "cell_type": "markdown",
   "metadata": {},
   "source": [
    "e) Give the 5-number summary of the data:"
   ]
  },
  {
   "cell_type": "code",
   "execution_count": 138,
   "metadata": {},
   "outputs": [
    {
     "name": "stdout",
     "output_type": "stream",
     "text": [
      "[13, 20, 25, 35, 70]\n"
     ]
    }
   ],
   "source": [
    "# Manual\n",
    "def five_number_summary(data):\n",
    "    sorted_data = sorted(data)\n",
    "    return [\n",
    "        min(sorted_data),\n",
    "        quantile(sorted_data, 1, 4),\n",
    "        sorted_data[int(len(sorted_data)/2)], # left calculated median\n",
    "        quantile(sorted_data, 3, 4),\n",
    "        max(sorted_data)\n",
    "    ]\n",
    "\n",
    "print(five_number_summary(l))"
   ]
  },
  {
   "cell_type": "markdown",
   "metadata": {},
   "source": [
    "f) Show the boxplot of the data."
   ]
  },
  {
   "cell_type": "code",
   "execution_count": 50,
   "metadata": {},
   "outputs": [
    {
     "data": {
      "image/png": "[encoded data removed]",
      "text/plain": [
       "<Figure size 432x288 with 1 Axes>"
      ]
     },
     "metadata": {},
     "output_type": "display_data"
    }
   ],
   "source": [
    "import matplotlib.pyplot as plt\n",
    "import numpy as np\n",
    "plt.boxplot(l, 0, '', 0) # print horizontal, including outliers\n",
    "plt.show()"
   ]
  },
  {
   "cell_type": "markdown",
   "metadata": {},
   "source": [
    "g) how is a quantile-quantile plot different from a quantile plot?"
   ]
  },
  {
   "cell_type": "markdown",
   "metadata": {},
   "source": [
    "A quantile plot (or percentile plot) displays the data in order with the percentile values along with the plot data.\n",
    "\n",
    "A quantile-quantile plot plots the data quantiles on one axis and the quantiles of another dataset on the other axis so that they can be compared to a straight line.  The closer the QQ plot is to the line x=y, the closer the two data sets are to each other in distribution."
   ]
  },
  {
   "cell_type": "markdown",
   "metadata": {},
   "source": [
    "2.3)  Given the data below, calculate an approximate median."
   ]
  },
  {
   "cell_type": "code",
   "execution_count": 78,
   "metadata": {},
   "outputs": [
    {
     "data": {
      "text/html": [
       "<div>\n",
       "<style scoped>\n",
       "    .dataframe tbody tr th:only-of-type {\n",
       "        vertical-align: middle;\n",
       "    }\n",
       "\n",
       "    .dataframe tbody tr th {\n",
       "        vertical-align: top;\n",
       "    }\n",
       "\n",
       "    .dataframe thead th {\n",
       "        text-align: right;\n",
       "    }\n",
       "</style>\n",
       "<table border=\"1\" class=\"dataframe\">\n",
       "  <thead>\n",
       "    <tr style=\"text-align: right;\">\n",
       "      <th></th>\n",
       "      <th>minage</th>\n",
       "      <th>maxage</th>\n",
       "      <th>frequency</th>\n",
       "    </tr>\n",
       "  </thead>\n",
       "  <tbody>\n",
       "    <tr>\n",
       "      <th>0</th>\n",
       "      <td>1</td>\n",
       "      <td>5</td>\n",
       "      <td>200</td>\n",
       "    </tr>\n",
       "    <tr>\n",
       "      <th>1</th>\n",
       "      <td>6</td>\n",
       "      <td>15</td>\n",
       "      <td>450</td>\n",
       "    </tr>\n",
       "    <tr>\n",
       "      <th>2</th>\n",
       "      <td>16</td>\n",
       "      <td>20</td>\n",
       "      <td>300</td>\n",
       "    </tr>\n",
       "    <tr>\n",
       "      <th>3</th>\n",
       "      <td>21</td>\n",
       "      <td>50</td>\n",
       "      <td>1500</td>\n",
       "    </tr>\n",
       "    <tr>\n",
       "      <th>4</th>\n",
       "      <td>51</td>\n",
       "      <td>80</td>\n",
       "      <td>700</td>\n",
       "    </tr>\n",
       "    <tr>\n",
       "      <th>5</th>\n",
       "      <td>81</td>\n",
       "      <td>110</td>\n",
       "      <td>44</td>\n",
       "    </tr>\n",
       "  </tbody>\n",
       "</table>\n",
       "</div>"
      ],
      "text/plain": [
       "   minage  maxage  frequency\n",
       "0       1       5        200\n",
       "1       6      15        450\n",
       "2      16      20        300\n",
       "3      21      50       1500\n",
       "4      51      80        700\n",
       "5      81     110         44"
      ]
     },
     "execution_count": 78,
     "metadata": {},
     "output_type": "execute_result"
    }
   ],
   "source": [
    "data= [[1,5,200],[6,15,450],[16,20,300],[21,50,1500],[51,80,700],[81,110,44]]\n",
    "df = pd.DataFrame(data, columns=['minage','maxage','frequency'])\n",
    "df"
   ]
  },
  {
   "cell_type": "code",
   "execution_count": 92,
   "metadata": {},
   "outputs": [
    {
     "data": {
      "text/plain": [
       "0     200\n",
       "1     650\n",
       "2     950\n",
       "3    2450\n",
       "4    3150\n",
       "5    3194\n",
       "Name: frequency, dtype: int64"
      ]
     },
     "execution_count": 92,
     "metadata": {},
     "output_type": "execute_result"
    }
   ],
   "source": [
    "# accumulate the sum of frequencies to each row\n",
    "c1 =  df['frequency'].cumsum(axis=0) \n",
    "c1"
   ]
  },
  {
   "cell_type": "code",
   "execution_count": 93,
   "metadata": {},
   "outputs": [
    {
     "data": {
      "text/plain": [
       "0       0\n",
       "1     200\n",
       "2     650\n",
       "3     950\n",
       "4    2450\n",
       "5    3150\n",
       "6    3194\n",
       "dtype: int64"
      ]
     },
     "execution_count": 93,
     "metadata": {},
     "output_type": "execute_result"
    }
   ],
   "source": [
    "# these are including the row so they need to be pushed down. First row should have a zero\n",
    "c2 = pd.Series([0])\n",
    "c3 = c2.append(c1, ignore_index=True)\n",
    "c3.truncate(after=5)\n",
    "c3"
   ]
  },
  {
   "cell_type": "code",
   "execution_count": 94,
   "metadata": {},
   "outputs": [
    {
     "data": {
      "text/html": [
       "<div>\n",
       "<style scoped>\n",
       "    .dataframe tbody tr th:only-of-type {\n",
       "        vertical-align: middle;\n",
       "    }\n",
       "\n",
       "    .dataframe tbody tr th {\n",
       "        vertical-align: top;\n",
       "    }\n",
       "\n",
       "    .dataframe thead th {\n",
       "        text-align: right;\n",
       "    }\n",
       "</style>\n",
       "<table border=\"1\" class=\"dataframe\">\n",
       "  <thead>\n",
       "    <tr style=\"text-align: right;\">\n",
       "      <th></th>\n",
       "      <th>minage</th>\n",
       "      <th>maxage</th>\n",
       "      <th>frequency</th>\n",
       "      <th>cumulateuntil</th>\n",
       "      <th>width</th>\n",
       "      <th>cumulative</th>\n",
       "    </tr>\n",
       "  </thead>\n",
       "  <tbody>\n",
       "    <tr>\n",
       "      <th>0</th>\n",
       "      <td>1</td>\n",
       "      <td>5</td>\n",
       "      <td>200</td>\n",
       "      <td>0</td>\n",
       "      <td>4</td>\n",
       "      <td>200</td>\n",
       "    </tr>\n",
       "    <tr>\n",
       "      <th>1</th>\n",
       "      <td>6</td>\n",
       "      <td>15</td>\n",
       "      <td>450</td>\n",
       "      <td>200</td>\n",
       "      <td>9</td>\n",
       "      <td>650</td>\n",
       "    </tr>\n",
       "    <tr>\n",
       "      <th>2</th>\n",
       "      <td>16</td>\n",
       "      <td>20</td>\n",
       "      <td>300</td>\n",
       "      <td>650</td>\n",
       "      <td>4</td>\n",
       "      <td>950</td>\n",
       "    </tr>\n",
       "    <tr>\n",
       "      <th>3</th>\n",
       "      <td>21</td>\n",
       "      <td>50</td>\n",
       "      <td>1500</td>\n",
       "      <td>950</td>\n",
       "      <td>29</td>\n",
       "      <td>2450</td>\n",
       "    </tr>\n",
       "    <tr>\n",
       "      <th>4</th>\n",
       "      <td>51</td>\n",
       "      <td>80</td>\n",
       "      <td>700</td>\n",
       "      <td>2450</td>\n",
       "      <td>29</td>\n",
       "      <td>3150</td>\n",
       "    </tr>\n",
       "    <tr>\n",
       "      <th>5</th>\n",
       "      <td>81</td>\n",
       "      <td>110</td>\n",
       "      <td>44</td>\n",
       "      <td>3150</td>\n",
       "      <td>29</td>\n",
       "      <td>3194</td>\n",
       "    </tr>\n",
       "  </tbody>\n",
       "</table>\n",
       "</div>"
      ],
      "text/plain": [
       "   minage  maxage  frequency  cumulateuntil  width  cumulative\n",
       "0       1       5        200              0      4         200\n",
       "1       6      15        450            200      9         650\n",
       "2      16      20        300            650      4         950\n",
       "3      21      50       1500            950     29        2450\n",
       "4      51      80        700           2450     29        3150\n",
       "5      81     110         44           3150     29        3194"
      ]
     },
     "execution_count": 94,
     "metadata": {},
     "output_type": "execute_result"
    }
   ],
   "source": [
    "# That's better.  now merge this with the previous columns\n",
    "df['cumulateuntil'] = c3\n",
    "# and added the rest of the info we need \n",
    "df['width'] = df['maxage']-df['minage']\n",
    "df['cumulative'] = c1\n",
    "df"
   ]
  },
  {
   "cell_type": "code",
   "execution_count": 83,
   "metadata": {},
   "outputs": [
    {
     "data": {
      "text/plain": [
       "minage             21\n",
       "maxage             50\n",
       "frequency        1500\n",
       "cumulateuntil     950\n",
       "width              29\n",
       "cumulative       2450\n",
       "Name: 3, dtype: int64"
      ]
     },
     "execution_count": 83,
     "metadata": {},
     "output_type": "execute_result"
    }
   ],
   "source": [
    "# the median group is found the usual way\n",
    "medianbyfreq=df['frequency'].sum()/2\n",
    "medianbyfreq\n",
    "x = df[df['cumulative'] > medianbyfreq].iloc[0]\n",
    "x"
   ]
  },
  {
   "cell_type": "code",
   "execution_count": 91,
   "metadata": {},
   "outputs": [
    {
     "data": {
      "text/plain": [
       "33.50866666666667"
      ]
     },
     "execution_count": 91,
     "metadata": {},
     "output_type": "execute_result"
    }
   ],
   "source": [
    "# that puts us in group three.\n",
    "# The formula for estimating the median is:\n",
    "def median_from_freq(dataframe):\n",
    "    medianbyfreq=df['frequency'].sum()/2\n",
    "    x = df[df['cumulative'] > medianbyfreq].iloc[0] # this is the data we need.\n",
    "    L_1 = x['minage']\n",
    "    N = df['frequency'].sum()\n",
    "    S_freq_l = x['cumulateuntil']\n",
    "    freq_median = x['frequency']\n",
    "    return L_1 + (N/2 - S_freq_l)/freq_median*x['width']\n",
    "\n",
    "median_from_freq(df)"
   ]
  },
  {
   "cell_type": "markdown",
   "metadata": {},
   "source": [
    "2.6) Given the two rows below, find the distances specified."
   ]
  },
  {
   "cell_type": "code",
   "execution_count": 98,
   "metadata": {},
   "outputs": [],
   "source": [
    "r_1 = [22,1,42,10]\n",
    "r_2 = [20,0,36,8]"
   ]
  },
  {
   "cell_type": "markdown",
   "metadata": {},
   "source": [
    "a) Find the Euclidean distance:\n",
    "    $$\\sqrt{\\sum_{i=0}^{n-1}(r_{1i}-r_{2i})^2}$$"
   ]
  },
  {
   "cell_type": "code",
   "execution_count": 99,
   "metadata": {},
   "outputs": [
    {
     "data": {
      "text/plain": [
       "6.708203932499369"
      ]
     },
     "execution_count": 99,
     "metadata": {},
     "output_type": "execute_result"
    }
   ],
   "source": [
    "import math\n",
    "def euclidean_distance(v_1, v_2):\n",
    "    c = 0\n",
    "    for i in range(len(v_1)):\n",
    "        c += (v_1[i] - v_2[i])**2\n",
    "    return math.sqrt(c)\n",
    "euclidean_distance(r_1,r_2)"
   ]
  },
  {
   "cell_type": "markdown",
   "metadata": {},
   "source": [
    "b) Find the Manhattan distance:\n",
    "$$\\sum_{i=0}^{n-1}|r_{1i}-r_{2i}|$$"
   ]
  },
  {
   "cell_type": "code",
   "execution_count": 101,
   "metadata": {},
   "outputs": [
    {
     "data": {
      "text/plain": [
       "11"
      ]
     },
     "execution_count": 101,
     "metadata": {},
     "output_type": "execute_result"
    }
   ],
   "source": [
    "def manhattan_distance(v_1,v_2):\n",
    "    c = 0\n",
    "    for i in range(len(v_1)):\n",
    "        c += abs(v_1[i] - v_2[i])\n",
    "    return c\n",
    "\n",
    "manhattan_distance(r_1, r_2)"
   ]
  },
  {
   "cell_type": "markdown",
   "metadata": {},
   "source": [
    "c) Find the Minkowski Distance with p = 3:\n",
    "\n",
    "$$ \\sqrt[\\leftroot{2}\\uproot{6}\\scriptstyle p]{\\sum_{i=0}^{n-1}(r_{1i}-r_{2i})^p}\n",
    "  \\ \\ \\ =\\ \\ \\  \\Bigl(\\sum_{i=0}^{n-1}(r_{1i}-r_{2i})^p\\Bigr)^{\\frac{1}{p}}, \\textit{ Where } p = 3.$$"
   ]
  },
  {
   "cell_type": "code",
   "execution_count": 102,
   "metadata": {},
   "outputs": [
    {
     "data": {
      "text/plain": [
       "6.153449493663682"
      ]
     },
     "execution_count": 102,
     "metadata": {},
     "output_type": "execute_result"
    }
   ],
   "source": [
    "def minkowski_distance(v_1, v_2, p):\n",
    "    c = 0\n",
    "    for i in range(len(v_1)):\n",
    "        c += (v_1[i] - v_2[i])**p\n",
    "    return c ** (1/p)\n",
    "minkowski_distance(r_1,r_2, 3)"
   ]
  },
  {
   "cell_type": "code",
   "execution_count": 103,
   "metadata": {},
   "outputs": [
    {
     "name": "stdout",
     "output_type": "stream",
     "text": [
      "11.0\n",
      "6.708203932499369\n"
     ]
    }
   ],
   "source": [
    "# Note that Minkowski distance is a generalization of euclidean and manhattan distances:\n",
    "print(minkowski_distance(r_1, r_2, 1)) # manhattan\n",
    "print(minkowski_distance(r_1, r_2, 2)) # euclidean"
   ]
  },
  {
   "cell_type": "markdown",
   "metadata": {},
   "source": [
    "e) Calculate the supremum distance:\n",
    "$$ \\lim_{h\\rightarrow\\infty}\\Bigl(\\sum_{i=0}^{n-1}(r_{1i}-r_{2i})^p\\Bigr)^{\\frac{1}{p}} \\ \\ \\ =\\ \\ \\ \\max_f^p|x_{1f}-x_{2f}|$$"
   ]
  },
  {
   "cell_type": "code",
   "execution_count": 106,
   "metadata": {},
   "outputs": [
    {
     "data": {
      "text/plain": [
       "6"
      ]
     },
     "execution_count": 106,
     "metadata": {},
     "output_type": "execute_result"
    }
   ],
   "source": [
    "def supremum_distance(v_1, v_2):\n",
    "    c = 0\n",
    "    for i in range(len(v_1)):\n",
    "        if abs(v_1[i] - v_2[i]) > c:\n",
    "            c = abs(v_1[i] - v_2[i])\n",
    "    return c\n",
    "supremum_distance(r_1, r_2)"
   ]
  },
  {
   "cell_type": "markdown",
   "metadata": {},
   "source": [
    "3.7) Use the data from 2.2 above for the following."
   ]
  },
  {
   "cell_type": "markdown",
   "metadata": {},
   "source": [
    "a) Use min-max normalization to transform 35 into a range 0-1 based on the dataset.\n",
    "\n",
    "$$ v_i' = \\frac{v_i-\\min_A}{\\max_A - \\min_A}$$"
   ]
  },
  {
   "cell_type": "code",
   "execution_count": 108,
   "metadata": {},
   "outputs": [
    {
     "name": "stdout",
     "output_type": "stream",
     "text": [
      "0.38596491228070173\n"
     ]
    }
   ],
   "source": [
    "print((35-min(l))/(max(l)-min(l)))"
   ]
  },
  {
   "cell_type": "markdown",
   "metadata": {},
   "source": [
    "b) Find the z-score normalization of 35 given the dataset $l$ and a standard deviation $\\sigma = 12.94$.\n",
    "\n",
    "$$ v_i' = \\frac{v_i-\\bar{A}}{\\sigma_A}$$"
   ]
  },
  {
   "cell_type": "code",
   "execution_count": 112,
   "metadata": {},
   "outputs": [
    {
     "data": {
      "text/plain": [
       "0.38926097658709724"
      ]
     },
     "execution_count": 112,
     "metadata": {},
     "output_type": "execute_result"
    }
   ],
   "source": [
    "def normalize(data, value):\n",
    "    return (value-stats.mean(data))/12.94\n",
    "normalize(l, 35)"
   ]
  },
  {
   "cell_type": "markdown",
   "metadata": {},
   "source": [
    "c) normalize 35 using decimal scaling over l.\n",
    "\n",
    "$$ v_i' = \\frac{v_i}{10^j}, \\textit{ where j is the minimum integer such that } \\max(|v_i'|) < 1$$"
   ]
  },
  {
   "cell_type": "code",
   "execution_count": 113,
   "metadata": {},
   "outputs": [
    {
     "name": "stdout",
     "output_type": "stream",
     "text": [
      "0.35\n"
     ]
    }
   ],
   "source": [
    "# in our case, j = 2.\n",
    "print(35/10**2)"
   ]
  },
  {
   "cell_type": "markdown",
   "metadata": {},
   "source": [
    "d) which, in your opinion, is best?  Why?"
   ]
  },
  {
   "cell_type": "markdown",
   "metadata": {},
   "source": [
    "In my opinion, z-score normalization is almost always best because it normalizes with respect to sampling measures that help reveal clusters and outliers in the data.  Also makes it possible to compare with other columns of data in the data set with less confusion and distortion."
   ]
  },
  {
   "cell_type": "markdown",
   "metadata": {},
   "source": [
    "3.9) given the data set below, answer questions a and b."
   ]
  },
  {
   "cell_type": "code",
   "execution_count": 114,
   "metadata": {},
   "outputs": [],
   "source": [
    "t = [5,10,11,13,15,35,50,55,72,92,204,215]"
   ]
  },
  {
   "cell_type": "markdown",
   "metadata": {},
   "source": [
    "a) bin the data set by equal frequency binning."
   ]
  },
  {
   "cell_type": "code",
   "execution_count": 123,
   "metadata": {},
   "outputs": [
    {
     "name": "stdout",
     "output_type": "stream",
     "text": [
      "[[5, 10, 11, 13], [15, 35, 50, 55], [72, 92, 204, 215]]\n"
     ]
    }
   ],
   "source": [
    "def equal_freq_bins(data, bins):\n",
    "    size = int(len(data)/bins)\n",
    "    new_list = [data[i:i+size] for i in range(0, len(data), size)]\n",
    "    return new_list\n",
    "\n",
    "print(equal_freq_bins(t, 3))"
   ]
  },
  {
   "cell_type": "markdown",
   "metadata": {},
   "source": [
    "b) equal width partitions:"
   ]
  },
  {
   "cell_type": "code",
   "execution_count": 135,
   "metadata": {},
   "outputs": [
    {
     "data": {
      "text/plain": [
       "[[5, 10, 11, 13, 15, 35, 50, 55, 72], [92], [204, 215]]"
      ]
     },
     "execution_count": 135,
     "metadata": {},
     "output_type": "execute_result"
    }
   ],
   "source": [
    "def equal_width_bins(data, bins):\n",
    "    # assumes data is sorted\n",
    "    dist = max(data) - min(data)\n",
    "    size = math.ceil(dist/bins)\n",
    "    new_list = []\n",
    "    last_i = 0\n",
    "    for j in range(bins):\n",
    "        bin_list = []\n",
    "        k = last_i\n",
    "        for i in range(k, len(data)):\n",
    "            last_i = i\n",
    "            if data[i] < (j+1)*size + min(data)+1:\n",
    "                bin_list.append(data[i])\n",
    "            else: break\n",
    "        new_list.append(bin_list)\n",
    "    return new_list\n",
    "\n",
    "equal_width_bins(t, 3)"
   ]
  },
  {
   "cell_type": "code",
   "execution_count": null,
   "metadata": {},
   "outputs": [],
   "source": []
  }
 ],
 "metadata": {
  "kernelspec": {
   "display_name": "Python 3",
   "language": "python",
   "name": "python3"
  },
  "language_info": {
   "codemirror_mode": {
    "name": "ipython",
    "version": 3
   },
   "file_extension": ".py",
   "mimetype": "text/x-python",
   "name": "python",
   "nbconvert_exporter": "python",
   "pygments_lexer": "ipython3",
   "version": "3.5.4"
  }
 },
 "nbformat": 4,
 "nbformat_minor": 2
}
